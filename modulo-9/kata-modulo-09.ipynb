{
 "cells": [
  {
   "cell_type": "markdown",
   "metadata": {},
   "source": [
    "# Kata Módulo 09\n",
    "\n",
    "## Ejercicio 1: Trabajar con argumentos en funciones\n",
    "\n",
    "Construcción de un informe de combustible que requiere de información de las distintas ubicaciones de combustible en el cohete\n",
    "\n",
    "Se define una función que requiere tres lecturas para mostrar el promedio"
   ]
  },
  {
   "cell_type": "code",
   "execution_count": 7,
   "metadata": {},
   "outputs": [],
   "source": [
    "def informe(t1, t2, t3):\n",
    "    # Suma de las lecturas\n",
    "    s = t1 + t2 + t3\n",
    "\n",
    "    # Imprime el promedio\n",
    "    print(\"El promedio de combustible es %.2f\" % (s/3.0))"
   ]
  },
  {
   "cell_type": "markdown",
   "metadata": {},
   "source": [
    "Se llama a la función"
   ]
  },
  {
   "cell_type": "code",
   "execution_count": null,
   "metadata": {},
   "outputs": [],
   "source": [
    "informe(0, 0.3, 2)"
   ]
  },
  {
   "cell_type": "markdown",
   "metadata": {},
   "source": [
    "Se realiza una función independiente para calcular el promedio"
   ]
  },
  {
   "cell_type": "code",
   "execution_count": null,
   "metadata": {},
   "outputs": [],
   "source": [
    "def promedio(tanques):\n",
    "    # Obtiene total de combustible\n",
    "    s = sum(tanques)\n",
    "    # Devuelve el promedio\n",
    "    return s / float(len(tanques))\n",
    "\n",
    "# Prueba de la función\n",
    "promedio([12, 23, 12, 12])"
   ]
  },
  {
   "cell_type": "markdown",
   "metadata": {},
   "source": [
    "Se actualiza la función para generar el reporte"
   ]
  },
  {
   "cell_type": "code",
   "execution_count": null,
   "metadata": {},
   "outputs": [],
   "source": [
    "def informe(t1, t2, t3):\n",
    "    return \"\"\"\n",
    "    Promedio de niveles en tanques: {:.2f}%\n",
    "    Tanque 1: {:.2f}%\n",
    "    Tanque 2: {:.2f}%\n",
    "    Tanque 3: {:.2f}%\n",
    "    \"\"\".format(promedio([t1, t2, t3]), t1, t2, t3)\n",
    "\n",
    "# Se prueba la función\n",
    "print(informe(80, 23, 12))"
   ]
  },
  {
   "cell_type": "markdown",
   "metadata": {},
   "source": [
    "## Ejercicio 2: Trabajo con argumentos de palabra clave\n",
    "\n",
    "Se define una función para crear un informe detallado de una misión espacial"
   ]
  },
  {
   "cell_type": "code",
   "execution_count": null,
   "metadata": {},
   "outputs": [],
   "source": [
    "def inf_mision(prelanzamiento, t_vuelo, destino, t_int, t_ext):\n",
    "    return \"\"\"\n",
    "    Misión con destino a {0}\n",
    "    Tiempo estimado de viaje: {1} días\n",
    "    Total de combustible: {2} galones\n",
    "    \"\"\".format(destino, prelanzamiento+t_vuelo, t_int+t_ext)\n",
    "\n",
    "# Prueba de la función\n",
    "print(inf_mision(10, 1000, 'Venus', 80, 90))"
   ]
  },
  {
   "cell_type": "markdown",
   "metadata": {},
   "source": [
    "Función para generar un informe con un número indefinido de pasos y tanques"
   ]
  },
  {
   "cell_type": "code",
   "execution_count": null,
   "metadata": {},
   "outputs": [],
   "source": [
    "# tiempo es una serie de valores numericos\n",
    "# tanques es una serie de valores numericos nombrados\n",
    "def inf_mision_2(destino, *tiempo, **tanques):\n",
    "    return \"\"\"\n",
    "    Misión con destino a {0}\n",
    "    Tiempo estimado de viaje: {1} días\n",
    "    Total de combustible: {2} galones\n",
    "    \"\"\".format(destino, sum(tiempo), sum(tanques.values()))\n",
    "\n",
    "# Prueba de la función\n",
    "print(inf_mision_2(\"Saturno\", 12, 12, 434, t1=2, t2=12, t3=42, t4=32))"
   ]
  },
  {
   "cell_type": "markdown",
   "metadata": {},
   "source": [
    "Se genera un informe detallado con combustuble de cada tanque"
   ]
  },
  {
   "cell_type": "code",
   "execution_count": null,
   "metadata": {},
   "outputs": [],
   "source": [
    "# tiempo es una serie de valores numericos\n",
    "# tanques es una serie de valores numericos nombrados\n",
    "def inf_mision_2(destino, *tiempo, **tanques):\n",
    "    s = \"\"\"\n",
    "    Misión con destino a {0}\n",
    "    Tiempo estimado de viaje: {1} días\n",
    "    Total de combustible: {2} galones\n",
    "    ----------------------------------------------\n",
    "    Detalle de los tanques:\n",
    "    \"\"\".format(destino, sum(tiempo), sum(tanques.values()))\n",
    "\n",
    "    # Se recorre la lista de tanques y se agrega al informe\n",
    "    for k in tanques:\n",
    "        s += \"\\t\\t* {} con {} galones de combustible\\n\".format(k, tanques[k])\n",
    "    \n",
    "    # Devuelve la cadena del informe\n",
    "    return s\n",
    "\n",
    "# Prueba de la función\n",
    "print(inf_mision_2(\"Saturno\", 12, 12, 434, t1=2, t2=12, t3=42, t4=32))"
   ]
  }
 ],
 "metadata": {
  "interpreter": {
   "hash": "ab82dfa60490cb41b3f31d3cdf83a6ad212fa23bd5143d1030c974c8f55ca751"
  },
  "kernelspec": {
   "display_name": "Python 3.8.5 ('base')",
   "language": "python",
   "name": "python3"
  },
  "language_info": {
   "codemirror_mode": {
    "name": "ipython",
    "version": 3
   },
   "file_extension": ".py",
   "mimetype": "text/x-python",
   "name": "python",
   "nbconvert_exporter": "python",
   "pygments_lexer": "ipython3",
   "version": "3.8.5"
  },
  "orig_nbformat": 4
 },
 "nbformat": 4,
 "nbformat_minor": 2
}
