{
 "cells": [
  {
   "cell_type": "markdown",
   "metadata": {},
   "source": [
    "# Kata Módulo 08\n",
    "\n",
    "## Ejercicio 1: Creación de diccionarios de Python\n",
    "\n",
    "Se crea un diccionario para almacenar la información de Marte"
   ]
  },
  {
   "cell_type": "code",
   "execution_count": 1,
   "metadata": {},
   "outputs": [],
   "source": [
    "planet = {\n",
    "    'name': 'Mars', \n",
    "    'moons': 2\n",
    "}"
   ]
  },
  {
   "cell_type": "markdown",
   "metadata": {},
   "source": [
    "Se recuperan el nombre y número de lunas del planeta"
   ]
  },
  {
   "cell_type": "code",
   "execution_count": null,
   "metadata": {},
   "outputs": [],
   "source": [
    "print(\"El planeta {} tiene {} luna(s)\".format(planet.get('name'), planet.get('moons')))"
   ]
  },
  {
   "cell_type": "markdown",
   "metadata": {},
   "source": [
    "Se agrega información de la circunferencia como un diccionario anidado"
   ]
  },
  {
   "cell_type": "code",
   "execution_count": 3,
   "metadata": {},
   "outputs": [],
   "source": [
    "planet['circunferencia (km)'] = {\n",
    "    'polar': 6752, \n",
    "    'equatorial': 6792\n",
    "}"
   ]
  },
  {
   "cell_type": "markdown",
   "metadata": {},
   "source": [
    "Se muestra la circunferencia polar del planeta"
   ]
  },
  {
   "cell_type": "code",
   "execution_count": null,
   "metadata": {},
   "outputs": [],
   "source": [
    "print(\"Circunferencia polar de {}: {} Km\".format(planet.get('name'), planet.get('circunferencia (km)').get('polar')))"
   ]
  },
  {
   "cell_type": "markdown",
   "metadata": {},
   "source": [
    "## Ejercicio 2: Programación dinámica con diccionarios\n",
    "\n",
    "Se define el diccionario de planetas y sus lunas"
   ]
  },
  {
   "cell_type": "code",
   "execution_count": 5,
   "metadata": {},
   "outputs": [],
   "source": [
    "planet_moons = {\n",
    "    'mercury': 0,\n",
    "    'venus': 0,\n",
    "    'earth': 1,\n",
    "    'mars': 2,\n",
    "    'jupiter': 79,\n",
    "    'saturn': 82,\n",
    "    'uranus': 27,\n",
    "    'neptune': 14,\n",
    "    'pluto': 5,\n",
    "    'haumea': 2,\n",
    "    'makemake': 1,\n",
    "    'eris': 1\n",
    "}"
   ]
  },
  {
   "cell_type": "markdown",
   "metadata": {},
   "source": [
    "Se determina el número de planetas y se crea una lista de las lunas"
   ]
  },
  {
   "cell_type": "code",
   "execution_count": null,
   "metadata": {},
   "outputs": [],
   "source": [
    "# Lista de lunas\n",
    "moons = planet_moons.values()\n",
    "print(moons)\n",
    "\n",
    "# Número de planetas\n",
    "planets = len(planet_moons.keys())\n",
    "print(planets)"
   ]
  },
  {
   "cell_type": "markdown",
   "metadata": {},
   "source": [
    "Se obtiene el promedio de lunas"
   ]
  },
  {
   "cell_type": "code",
   "execution_count": null,
   "metadata": {},
   "outputs": [],
   "source": [
    "total_moons = 0\n",
    "\n",
    "# Conteo del total de lunas\n",
    "for v in moons:\n",
    "    total_moons += v\n",
    "\n",
    "# Calcula el promedio\n",
    "promedio = total_moons / planets\n",
    "\n",
    "# Imprime el promedio\n",
    "print(\"El promedio de lunas es %.2f\" % promedio)"
   ]
  }
 ],
 "metadata": {
  "interpreter": {
   "hash": "ab82dfa60490cb41b3f31d3cdf83a6ad212fa23bd5143d1030c974c8f55ca751"
  },
  "kernelspec": {
   "display_name": "Python 3.8.5 ('base')",
   "language": "python",
   "name": "python3"
  },
  "language_info": {
   "codemirror_mode": {
    "name": "ipython",
    "version": 3
   },
   "file_extension": ".py",
   "mimetype": "text/x-python",
   "name": "python",
   "nbconvert_exporter": "python",
   "pygments_lexer": "ipython3",
   "version": "3.8.5"
  },
  "orig_nbformat": 4
 },
 "nbformat": 4,
 "nbformat_minor": 2
}
