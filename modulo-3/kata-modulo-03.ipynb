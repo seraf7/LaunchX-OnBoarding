{
 "cells": [
  {
   "cell_type": "markdown",
   "metadata": {},
   "source": [
    "# Kata Modulo 03\n",
    "\n",
    "## Ejercicio 1: Declaraciones `if`, `else` y `elif`"
   ]
  },
  {
   "cell_type": "code",
   "execution_count": 3,
   "metadata": {},
   "outputs": [
    {
     "name": "stdout",
     "output_type": "stream",
     "text": [
      "¡¡Cuidado!! Peligro de colisión\n"
     ]
    }
   ],
   "source": [
    "# Guarda velocidad de asteroide\n",
    "v = 49\n",
    "\n",
    "# Se valida la velocidad\n",
    "if v > 25:\n",
    "    print(\"¡¡Cuidado!! Peligro de colisión\")\n",
    "else:\n",
    "    print(\"Nada de peligro, quédate tranquilo\")"
   ]
  },
  {
   "cell_type": "code",
   "execution_count": 5,
   "metadata": {},
   "outputs": [
    {
     "name": "stdout",
     "output_type": "stream",
     "text": [
      "Es un día comun del cielo\n"
     ]
    }
   ],
   "source": [
    "v = 19\n",
    "\n",
    "if v > 20:\n",
    "    print(\"¡Mira el cielo! Un asteroide se aproxima\")\n",
    "elif v == 20:\n",
    "    print(\"¡Mira el cielo! Un asteroide se aproxima\")\n",
    "else:\n",
    "    print(\"Es un día comun del cielo\")"
   ]
  },
  {
   "cell_type": "markdown",
   "metadata": {},
   "source": [
    "## Ejercicio 2: Operadores `and` y `or`"
   ]
  },
  {
   "cell_type": "code",
   "execution_count": 7,
   "metadata": {},
   "outputs": [
    {
     "name": "stdout",
     "output_type": "stream",
     "text": [
      "¡Peligro inminente! Un asteroide colisionará\n"
     ]
    }
   ],
   "source": [
    "# Almacena información del asteroide\n",
    "v = 25  #Velocidad\n",
    "t = 40  #Tamaño\n",
    "\n",
    "# Valida si puede haber daños\n",
    "if t > 25 and t < 1000:\n",
    "    print(\"¡Peligro inminente! Un asteroide colisionará\")\n",
    "elif v > 25:\n",
    "    print(\"¡Peligro! Un asteroide se aproxima\")\n",
    "elif v >= 20:\n",
    "    (\"¡Mira el cielo! Un asteroide se aproxima\")\n",
    "else:\n",
    "    print(\"Tranquilos, el asteroide se desitegrará\")"
   ]
  }
 ],
 "metadata": {
  "interpreter": {
   "hash": "ab82dfa60490cb41b3f31d3cdf83a6ad212fa23bd5143d1030c974c8f55ca751"
  },
  "kernelspec": {
   "display_name": "Python 3.8.5 ('base')",
   "language": "python",
   "name": "python3"
  },
  "language_info": {
   "codemirror_mode": {
    "name": "ipython",
    "version": 3
   },
   "file_extension": ".py",
   "mimetype": "text/x-python",
   "name": "python",
   "nbconvert_exporter": "python",
   "pygments_lexer": "ipython3",
   "version": "3.8.5"
  },
  "orig_nbformat": 4
 },
 "nbformat": 4,
 "nbformat_minor": 2
}
